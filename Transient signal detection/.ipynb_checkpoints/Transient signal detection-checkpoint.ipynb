{
 "cells": [
  {
   "cell_type": "code",
   "execution_count": null,
   "metadata": {},
   "outputs": [],
   "source": [
    "# New method for detecting earthquakes in the seismic waveform (extracting a charactristic function for earthquakes detection)\n",
    "# Outputs are: 1- Text file of the charactristic function (detected transient signals) 2- Mseed file of the charactristic function\n",
    "\n",
    "import obspy\n",
    "import librosa\n",
    "import numpy as np\n",
    "import librosa.display\n",
    "import datetime\n",
    "import matplotlib.pyplot as plt\n",
    "\n",
    "file= obspy.read ('2014251restitute-highpassfilter0.5.mseed')\n",
    "x=file[0].data\n",
    "y=x.astype(float)\n",
    "    \n",
    "### Separation with high precision in time for detecting transient signals\n",
    "# Choose a small n_fft for high precision in time domain\n",
    "\n",
    "k=2\n",
    "sr=16000\n",
    "hop_length=32\n",
    "win_length=128\n",
    "n_fft= 128\n",
    "\n",
    "# Compute the spectrogram magnitude and phase\n",
    "S_full, phase = librosa.magphase(librosa.stft(y, n_fft= n_fft, hop_length=hop_length, win_length=win_length))\n",
    "    \n",
    "# We'll compare frames using cosine similarity, and aggregate similar frames by taking their (per-frequency) median value.\n",
    "S_filter = librosa.decompose.nn_filter(S_full,aggregate=np.median,metric='cosine',width=k)\n",
    "    \n",
    "# The output of the filter shouldn't be greater than the input\n",
    "S_filter = np.minimum(S_full, S_filter)\n",
    "margin_i, margin_v = 1, 1\n",
    "power = 2\n",
    "\n",
    "# Once we have the masks, simply multiply them with the input spectrogram to separate the components\n",
    "mask_i = librosa.util.softmask(S_filter,margin_i * (S_full - S_filter),power=power)\n",
    "mask_v = librosa.util.softmask(S_full - S_filter,margin_v * S_filter,power=power)\n",
    "\n",
    "S_foreground = mask_v * S_full\n",
    "S_background = mask_i * S_full\n",
    "\n",
    "# Decompose spectrograms into harmonic and percussive components\n",
    "H2, P2 = librosa.decompose.hpss(S_foreground)\n",
    "    \n",
    "# save P2 (percussive component of transient spectrogram) as a charactristic function for detecting earthquakes (as text file and mseed file). \n",
    "with open ('2014251-characteristic function.txt','w') as h:\n",
    "    out = P2.sum(axis=0)\n",
    "    h.write(\"\\n\".join(map(lambda x: '%f' % x, out)))\n",
    "    \n",
    "stats = file[0].stats\n",
    "stats.sampling_rate = 3.125\n",
    "stats.npts = len(out)\n",
    "stats.location= 'P2'\n",
    "st = Stream([Trace(data=out, header=stats)])\n",
    "st.write( '2014251-characteristic function.mseed', format='MSEED', encoding=4, reclen=4096)"
   ]
  },
  {
   "cell_type": "code",
   "execution_count": null,
   "metadata": {},
   "outputs": [],
   "source": []
  }
 ],
 "metadata": {
  "kernelspec": {
   "display_name": "Python 3",
   "language": "python",
   "name": "python3"
  },
  "language_info": {
   "codemirror_mode": {
    "name": "ipython",
    "version": 3
   },
   "file_extension": ".py",
   "mimetype": "text/x-python",
   "name": "python",
   "nbconvert_exporter": "python",
   "pygments_lexer": "ipython3",
   "version": "3.7.3"
  }
 },
 "nbformat": 4,
 "nbformat_minor": 2
}
