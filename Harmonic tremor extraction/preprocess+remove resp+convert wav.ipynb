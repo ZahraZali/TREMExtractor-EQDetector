{
 "cells": [
  {
   "cell_type": "code",
   "execution_count": 1,
   "metadata": {},
   "outputs": [],
   "source": [
    "# preprocessing: detrend, tapering, remove response and convert to wav\n",
    "# outputs are: 1- remove responsed mseed file 2- remove response wav file with sr= 16000\n",
    "\n",
    "import glob\n",
    "import obspy\n",
    "from obspy import read, read_inventory\n",
    "\n",
    "# go through the directory\n",
    "directory= '/Users/zali/study/data/iceland/the method code/Harmonic tremor extraction/*.m'\n",
    "folder= glob.glob (directory)\n",
    "\n",
    "# define remove response parameters\n",
    "inv = read_inventory('RESP.Z7.FLUR..HHZ')\n",
    "pre_filt = (0.005, 0.006, 40.0, 45.0)\n",
    "\n",
    "# loop for doing preproseccing steps for all files in the folder and convert them to wav file \n",
    "for file in folder:\n",
    "    st = obspy.read (file)\n",
    "    \n",
    "    st.detrend\n",
    "    st.taper\n",
    "    st.remove_response(inventory=inv, output='DISP', water_level=60, pre_filt=pre_filt)\n",
    "    \n",
    "    st[0].write ( file[:-17]+'-resp.wav', format= 'wav', framerate=16000, rescale=True, width=4)\n",
    "    st[0].write( file[:-17]+'-resp.mseed', format=\"MSEED\", encoding=5, reclen=4096)"
   ]
  },
  {
   "cell_type": "code",
   "execution_count": null,
   "metadata": {},
   "outputs": [],
   "source": []
  }
 ],
 "metadata": {
  "kernelspec": {
   "display_name": "Python 3",
   "language": "python",
   "name": "python3"
  },
  "language_info": {
   "codemirror_mode": {
    "name": "ipython",
    "version": 3
   },
   "file_extension": ".py",
   "mimetype": "text/x-python",
   "name": "python",
   "nbconvert_exporter": "python",
   "pygments_lexer": "ipython3",
   "version": "3.7.3"
  }
 },
 "nbformat": 4,
 "nbformat_minor": 2
}
